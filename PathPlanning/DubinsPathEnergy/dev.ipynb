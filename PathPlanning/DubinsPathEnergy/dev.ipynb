{
 "cells": [
  {
   "cell_type": "code",
   "execution_count": 1,
   "metadata": {},
   "outputs": [],
   "source": [
    "import numpy as np\n",
    "from dubins_path_energy_planner import _calculate_energy_cost, _calculate_energy_cost_untouched"
   ]
  },
  {
   "cell_type": "code",
   "execution_count": 2,
   "metadata": {},
   "outputs": [],
   "source": [
    "def my_function(v2, v3):\n",
    "    return v2 + v3, v2**2, v3**2\n",
    "\n",
    "my_function(1, 2)\n",
    "\n",
    "velocity_search_range = (1.0,2.0,3.0)\n",
    "\n",
    "V2, V3 = np.meshgrid(velocity_search_range, velocity_search_range)\n",
    "\n",
    "v2_v3_results_01, v2_v3_results_02, v2_v3_results_03 = my_function(V2, V3)\n"
   ]
  },
  {
   "cell_type": "code",
   "execution_count": 3,
   "metadata": {},
   "outputs": [
    {
     "name": "stdout",
     "output_type": "stream",
     "text": [
      "1.0 1.0 44.61268247652587 [19.67090236872727, 9.81, 15.131780107798598] [9.835451184363635, 9.81, 9.835657070069088]\n",
      "2.0 2.0 23.992700880895352 [10.20960821971147, 4.905, 8.878092661183882] [10.20960821971147, 9.81, 10.209806560361464]\n",
      "3.0 3.0 18.15264106086554 [7.795614151559836, 3.27, 7.0870269093057034] [11.693421227339757, 9.81, 11.69359440035441]\n"
     ]
    }
   ],
   "source": [
    "a, b, c = _calculate_energy_cost_untouched(1, 1, 1, \"RSR\", 0.0, 1.0, 1.0, 0.3, 1)\n",
    "d, e, f = _calculate_energy_cost_untouched(1, 1, 1, \"RSR\", 0.0, 2.0, 2.0, 0.3, 1)\n",
    "g, h, j = _calculate_energy_cost_untouched(1, 1, 1, \"RSR\", 0.0, 3.0, 3.0, 0.3, 1)\n",
    "print(1.0, 1.0, a, b, c)\n",
    "print(2.0, 2.0, d, e, f)\n",
    "print(3.0, 3.0, g, h, j)"
   ]
  },
  {
   "cell_type": "code",
   "execution_count": 4,
   "metadata": {},
   "outputs": [
    {
     "data": {
      "text/plain": [
       "array([[[19.67090237, 10.20960822,  7.79561415],\n",
       "        [19.67090237, 10.20960822,  7.79561415],\n",
       "        [19.67090237, 10.20960822,  7.79561415]],\n",
       "\n",
       "       [[ 9.81      ,  6.61601088,  5.29707702],\n",
       "        [ 6.61601088,  4.905     ,  4.04941675],\n",
       "        [ 5.29707702,  4.04941675,  3.27      ]],\n",
       "\n",
       "       [[15.13178011, 15.13178011, 15.13178011],\n",
       "        [ 8.87809266,  8.87809266,  8.87809266],\n",
       "        [ 7.08702691,  7.08702691,  7.08702691]]])"
      ]
     },
     "execution_count": 4,
     "metadata": {},
     "output_type": "execute_result"
    }
   ],
   "source": [
    "cost, segment_energy_costs, segment_power_costs = _calculate_energy_cost(1, 1, 1, \"RSR\", 0.0, V2, V3, 0.3, 1)\n",
    "\n",
    "segment_energy_costs"
   ]
  },
  {
   "cell_type": "code",
   "execution_count": 20,
   "metadata": {},
   "outputs": [
    {
     "data": {
      "text/plain": [
       "array([11.69342123,  9.81      , 11.6935944 ])"
      ]
     },
     "execution_count": 20,
     "metadata": {},
     "output_type": "execute_result"
    }
   ],
   "source": [
    "id_min_cost = np.unravel_index(np.argmin(cost, axis=None), cost.shape)\n",
    "\n",
    "current_min_cost = cost[id_min_cost]\n",
    "current_segment_energy_costs = segment_energy_costs[:, *id_min_cost]\n",
    "current_segment_power_costs = segment_power_costs[:, *id_min_cost]\n",
    "current_v2 = V2[id_min_cost]\n",
    "current_v3 = V3[id_min_cost]\n",
    "\n",
    "current_segment_power_costs"
   ]
  }
 ],
 "metadata": {
  "kernelspec": {
   "display_name": "python_robotics",
   "language": "python",
   "name": "python3"
  },
  "language_info": {
   "codemirror_mode": {
    "name": "ipython",
    "version": 3
   },
   "file_extension": ".py",
   "mimetype": "text/x-python",
   "name": "python",
   "nbconvert_exporter": "python",
   "pygments_lexer": "ipython3",
   "version": "3.12.10"
  }
 },
 "nbformat": 4,
 "nbformat_minor": 2
}
